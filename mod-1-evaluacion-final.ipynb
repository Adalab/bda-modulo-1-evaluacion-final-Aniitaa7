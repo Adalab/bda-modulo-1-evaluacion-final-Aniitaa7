{
 "cells": [
  {
   "cell_type": "markdown",
   "metadata": {},
   "source": [
    "# Evaluación Final Módulo 1\n",
    "## Ejercicio\n",
    " ### A lo largo de esta evaluación tendrás que crear una clase llamada `TiendaOnline` que cumpla los siguientes requisitos:"
   ]
  },
  {
   "cell_type": "code",
   "execution_count": 20,
   "metadata": {},
   "outputs": [],
   "source": [
    "class Tienda_Online: \n",
    "    # el método constructor con los siguientes atributos:\n",
    "    def __init__(self):\n",
    "        self.inventario = []\n",
    "        self.clientes = {}\n",
    "        self.ventas_totales = 0.0\n",
    "\n",
    "    #el primer método donde se van a agregar los productos al inventario o actualziar su cantidad si ya existiese\n",
    "    def agregar_producto(self, nombre, precio, cantidad):\n",
    "        \n",
    "        # se añade el for para iterar a través del inventario\n",
    "        for producto in self.inventario:\n",
    "            if producto[\"nombre\"] == nombre:\n",
    "                producto[\"cantidad\"] += cantidad # si el producto existe se actualiza la cantidad\n",
    "                print(f\"El producto {nombre} esta actualizado. La nueva cantidad: {producto[\"cantidad\"]}\")\n",
    "                return\n",
    "       \n",
    "        #para un producto que no existe se añade como un {} en la []\n",
    "        nuevo_producto = {\"nombre\": nombre, \"precio\": precio, \"cantidad\": cantidad}\n",
    "        #se usa el append para agregar un nuevo producto al final de la lista\n",
    "        self.inventario.append(nuevo_producto)\n",
    "        print(f\"El nuevo producto {nombre} ha sido agregado al invenatrio\")\n",
    "\n",
    "\n",
    "    #en el segundo método se muestra el inventario con sus productos y sus respectivos detalles\n",
    "    def ver_inventario(self):\n",
    "\n",
    "        #se añade el bucle for para recorrer el inventario\n",
    "        for producto in self.inventario:\n",
    "            #se printean los productos del inventario de la forma pedida\n",
    "            print(f\"Nombre: {producto[\"nombre\"]}, Precio: ${producto[\"precio\"]}, Cantidad: {producto[\"cantidad\"]}\")\n",
    "    \n",
    "\n",
    "    #en el tercer método se busca un producto en el inventario por su nombre y mostrando los detalles si se encuentra\n",
    "    def buscar_producto(self, nombre):\n",
    "\n",
    "        #se añade el bucle for para recorrer el inventario\n",
    "        for producto in self.inventario:\n",
    "            #se añade .lower() por si se busca el producto en minúsculas\n",
    "            if producto[\"nombre\"].lower() == nombre.lower():\n",
    "                print(f\"Nombre: {producto[\"nombre\"]}, Precio: ${producto[\"precio\"]}, Cantidad: {producto[\"cantidad\"]}\")\n",
    "                return #si existe el producto termina la iteración\n",
    "            else:\n",
    "                print(\"No existe producto en el inventario\")\n",
    "                break #para interrumpir el bucle\n",
    "    \n",
    "\n",
    "    #en el cuarto se actualiza el stock de un producto del inventario           \n",
    "    def actualizar_stock(self, nombre, cantidad):\n",
    "\n",
    "        #se añade el bucle for para recorrer el inventario\n",
    "        for producto in self.inventario:\n",
    "            if producto[\"nombre\"].lower() == nombre.lower(): #para buscar el producto \n",
    "                producto[\"cantidad\"] += cantidad # actualizar la cantidad\n",
    "                print(f\"El stock de {nombre} esta actualizado. La nueva cantidad: {producto[\"cantidad\"]}\")\n",
    "                return\n",
    "            else: #si no existe el producto se printea el siguiente mensaje\n",
    "                print(\"No existe producto en el inventario\")\n",
    "                break #para interrumpir el bucle\n",
    "            \n",
    "    #el quinto método es para eliminar un producto del inventario por su nombre\n",
    "    def eliminar_producto(self, nombre):\n",
    "        \n",
    "        #bucle for para recorrer el inventario\n",
    "        for  producto in self.inventario:\n",
    "            if producto[\"nombre\"].lower() == nombre.lower(): #para buscar el producto por su nombre\n",
    "                self.inventario.remove(producto)\n",
    "                print(f\"Producto {producto[\"nombre\"]} eliminado del inventario\")\n",
    "                return\n",
    "        \n",
    "            print(f\"El producto {nombre} no existe en el inventario\")\n",
    "                "
   ]
  },
  {
   "cell_type": "code",
   "execution_count": 2,
   "metadata": {},
   "outputs": [],
   "source": [
    "#instancia creada\n",
    "Tienda = Tienda_Online()"
   ]
  },
  {
   "cell_type": "markdown",
   "metadata": {},
   "source": [
    "# En las siguientes dos casillas se comprueba que los productos han sido agrgados al inventario con sus respectivos nombres, precios y cantidades"
   ]
  },
  {
   "cell_type": "code",
   "execution_count": 3,
   "metadata": {},
   "outputs": [
    {
     "name": "stdout",
     "output_type": "stream",
     "text": [
      "El nuevo producto Camisa ha sido agregado al invenatrio\n"
     ]
    }
   ],
   "source": [
    "Tienda.agregar_producto(\"Camisa\", 20,  40)"
   ]
  },
  {
   "cell_type": "code",
   "execution_count": 4,
   "metadata": {},
   "outputs": [
    {
     "name": "stdout",
     "output_type": "stream",
     "text": [
      "El nuevo producto Pantalón ha sido agregado al invenatrio\n"
     ]
    }
   ],
   "source": [
    "Tienda.agregar_producto(\"Pantalón\", 30,  30)"
   ]
  },
  {
   "cell_type": "code",
   "execution_count": 5,
   "metadata": {},
   "outputs": [
    {
     "name": "stdout",
     "output_type": "stream",
     "text": [
      "El producto Camisa esta actualizado. La nueva cantidad: 50\n"
     ]
    }
   ],
   "source": [
    "Tienda.agregar_producto(\"Camisa\", 20,  10)\n",
    "#Al añadir manualmente otra cantidad se actualiza sumando la nueva cantidad (10) "
   ]
  },
  {
   "cell_type": "code",
   "execution_count": 6,
   "metadata": {},
   "outputs": [
    {
     "name": "stdout",
     "output_type": "stream",
     "text": [
      "El nuevo producto Chaqueta ha sido agregado al invenatrio\n"
     ]
    }
   ],
   "source": [
    "#A continuación, se le va a agregar un nuevo producto siguiendo los pasos anteriores\n",
    "Tienda.agregar_producto(\"Chaqueta\", 30,  60)"
   ]
  },
  {
   "cell_type": "code",
   "execution_count": 7,
   "metadata": {},
   "outputs": [
    {
     "name": "stdout",
     "output_type": "stream",
     "text": [
      "El nuevo producto Zapatos ha sido agregado al invenatrio\n"
     ]
    }
   ],
   "source": [
    "Tienda.agregar_producto(\"Zapatos\", 50,  40)"
   ]
  },
  {
   "cell_type": "code",
   "execution_count": 8,
   "metadata": {},
   "outputs": [
    {
     "name": "stdout",
     "output_type": "stream",
     "text": [
      "[{'nombre': 'Camisa', 'precio': 20, 'cantidad': 50}, {'nombre': 'Pantalón', 'precio': 30, 'cantidad': 30}, {'nombre': 'Chaqueta', 'precio': 30, 'cantidad': 60}, {'nombre': 'Zapatos', 'precio': 50, 'cantidad': 40}]\n"
     ]
    }
   ],
   "source": [
    "#Se comprueba, printeando el inventario de la tienda, que aparecen de la forma solicitada = [{}, {}...]\n",
    "print(Tienda.inventario)"
   ]
  },
  {
   "cell_type": "markdown",
   "metadata": {},
   "source": [
    "# ---- fin del primer método ----"
   ]
  },
  {
   "cell_type": "code",
   "execution_count": 9,
   "metadata": {},
   "outputs": [
    {
     "name": "stdout",
     "output_type": "stream",
     "text": [
      "Nombre: Camisa, Precio: $20, Cantidad: 50\n",
      "Nombre: Pantalón, Precio: $30, Cantidad: 30\n",
      "Nombre: Chaqueta, Precio: $30, Cantidad: 60\n",
      "Nombre: Zapatos, Precio: $50, Cantidad: 40\n"
     ]
    }
   ],
   "source": [
    "# Se imprimen los detalles de cada producto como se ha sugerido\n",
    "Tienda.ver_inventario()"
   ]
  },
  {
   "cell_type": "markdown",
   "metadata": {},
   "source": [
    "# ---- fin del segundo método ----"
   ]
  },
  {
   "cell_type": "code",
   "execution_count": 10,
   "metadata": {},
   "outputs": [
    {
     "name": "stdout",
     "output_type": "stream",
     "text": [
      "Nombre: Camisa, Precio: $20, Cantidad: 50\n"
     ]
    }
   ],
   "source": [
    "#se comprueba al poner un producto que existe si se printea con los detalles\n",
    "Tienda.buscar_producto(\"Camisa\")"
   ]
  },
  {
   "cell_type": "code",
   "execution_count": 11,
   "metadata": {},
   "outputs": [
    {
     "name": "stdout",
     "output_type": "stream",
     "text": [
      "No existe producto en el inventario\n"
     ]
    }
   ],
   "source": [
    "#se comprueba un producto que no existe en el inventario\n",
    "Tienda.buscar_producto(\"Jersey\")"
   ]
  },
  {
   "cell_type": "markdown",
   "metadata": {},
   "source": [
    "# ---- fin del tercer método ----"
   ]
  },
  {
   "cell_type": "code",
   "execution_count": 12,
   "metadata": {},
   "outputs": [
    {
     "name": "stdout",
     "output_type": "stream",
     "text": [
      "El stock de Camisa esta actualizado. La nueva cantidad: 60\n"
     ]
    }
   ],
   "source": [
    "#Se ha comprobado el buscar un producto del inventario con el nombre y modificar la cantidad agregando la deseada a sumar\n",
    "Tienda.actualizar_stock(\"Camisa\", 10)"
   ]
  },
  {
   "cell_type": "code",
   "execution_count": 13,
   "metadata": {},
   "outputs": [
    {
     "name": "stdout",
     "output_type": "stream",
     "text": [
      "No existe producto en el inventario\n"
     ]
    }
   ],
   "source": [
    "#Se comprueba buscando un producto que no está en el inventario\n",
    "Tienda.actualizar_stock(\"Jersey\", 10)"
   ]
  },
  {
   "cell_type": "markdown",
   "metadata": {},
   "source": [
    "# ---- fin del cuarto método ----"
   ]
  },
  {
   "cell_type": "code",
   "execution_count": 17,
   "metadata": {},
   "outputs": [
    {
     "name": "stdout",
     "output_type": "stream",
     "text": [
      "El producto Chaqueta no existe en el inventario\n"
     ]
    }
   ],
   "source": [
    "Tienda.eliminar_producto(\"Chaqueta\")"
   ]
  },
  {
   "cell_type": "code",
   "execution_count": 18,
   "metadata": {},
   "outputs": [
    {
     "name": "stdout",
     "output_type": "stream",
     "text": [
      "El producto Jersey no existe en el inventario\n"
     ]
    }
   ],
   "source": [
    "Tienda.eliminar_producto('Jersey')"
   ]
  },
  {
   "cell_type": "code",
   "execution_count": 19,
   "metadata": {},
   "outputs": [
    {
     "name": "stdout",
     "output_type": "stream",
     "text": [
      "Nombre: Camisa, Precio: $20, Cantidad: 60\n",
      "Nombre: Pantalón, Precio: $30, Cantidad: 30\n",
      "Nombre: Chaqueta, Precio: $30, Cantidad: 60\n",
      "Nombre: Zapatos, Precio: $50, Cantidad: 40\n"
     ]
    }
   ],
   "source": [
    "Tienda.ver_inventario()"
   ]
  }
 ],
 "metadata": {
  "kernelspec": {
   "display_name": "Python 3",
   "language": "python",
   "name": "python3"
  },
  "language_info": {
   "codemirror_mode": {
    "name": "ipython",
    "version": 3
   },
   "file_extension": ".py",
   "mimetype": "text/x-python",
   "name": "python",
   "nbconvert_exporter": "python",
   "pygments_lexer": "ipython3",
   "version": "3.12.5"
  }
 },
 "nbformat": 4,
 "nbformat_minor": 2
}
